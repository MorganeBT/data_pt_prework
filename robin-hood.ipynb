{
 "cells": [
  {
   "cell_type": "markdown",
   "metadata": {},
   "source": [
    "# Robin Hood:\n",
    "We are in a competition to win the archery contest in Sherwood. With our bow and arrows we shoot on a target and try to hit as close as possible to the center.\n",
    "\n",
    "The center of the target is represented by the values (0, 0) on the coordinate axes.\n",
    "\n",
    "![](images/arrows.jpg)\n",
    "\n",
    "## Goals:\n",
    "* data structures: lists, sets, tuples\n",
    "* logical operators: if-elif-else\n",
    "* loop: while/for\n",
    "* minimum (optional sorting)\n",
    "\n",
    "## Description:\n",
    "In the 2-dimensional space, a point can be defined by a pair of values that correspond to the horizontal coordinate (x) and the vertical coordinate (y). The space can be divided into 4 zones (quadrants): Q1, Q2, Q3, Q4. Whose single point of union is the point (0, 0).\n",
    "\n",
    "If a point is in Q1 both its x coordinate and the y are positive. I leave a link to wikipedia to familiarize yourself with these quadrants.\n",
    "\n",
    "https://en.wikipedia.org/wiki/Cartesian_coordinate_system\n",
    "\n",
    "https://en.wikipedia.org/wiki/Euclidean_distance\n",
    "\n",
    "## Shots\n",
    "```\n",
    "points = [(4, 5), (-0, 2), (4, 7), (1, -3), (3, -2), (4, 5),\n",
    "          (3, 2), (5, 7), (-5, 7), (2, 2), (-4, 5), (0, -2),\n",
    "          (-4, 7), (-1, 3), (-3, 2), (-4, -5), (-3, 2),\n",
    "          (5, 7), (5, 7), (2, 2), (9, 9), (-8, -9)]\n",
    "```\n",
    "\n",
    "## Tasks\n",
    "1. Robin Hood is famous for hitting an arrow with another arrow. Did you get it?\n",
    "2. Calculate how many arrows have fallen in each quadrant.\n",
    "3. Find the point closest to the center. Calculate its distance to the center. \n",
    "4. If the target has a radius of 9, calculate the number of arrows that must be picked up in the forest."
   ]
  },
  {
   "cell_type": "code",
   "execution_count": 2,
   "metadata": {},
   "outputs": [
    {
     "name": "stdout",
     "output_type": "stream",
     "text": [
      "Le nombre de points est: 22\n"
     ]
    }
   ],
   "source": [
    "# Variables\n",
    "points = [(4, 5), (0, 2), (4, 7), (1, -3), (3, -2), (4, 5),\n",
    "          (3, 2), (5, 7), (-5, 7), (2, 2), (-4, 5), (0, -2),\n",
    "          (-4, 7), (-1, 3), (-3, 2), (-4, -5), (-3, 2),\n",
    "          (5, 7), (5, 7), (2, 2), (9, 9), (-8, -9)]\n",
    "print(\"Le nombre de points est: {}\".format(len(points)))"
   ]
  },
  {
   "cell_type": "code",
   "execution_count": 3,
   "metadata": {},
   "outputs": [
    {
     "name": "stdout",
     "output_type": "stream",
     "text": [
      "Le nombre de points uniques est: 17\n"
     ]
    }
   ],
   "source": [
    "# 1. Robin Hood is famous for hitting an arrow with another arrow. Did you get it?\n",
    "uniques = set(points)\n",
    "print(\"Le nombre de points uniques est: {}\".format(len(uniques)))"
   ]
  },
  {
   "cell_type": "code",
   "execution_count": 4,
   "metadata": {},
   "outputs": [
    {
     "name": "stdout",
     "output_type": "stream",
     "text": [
      "5 arrows are hitting in another arrow.\n"
     ]
    }
   ],
   "source": [
    "n_duplicates = len(points)-len(uniques)\n",
    "print(\"{} arrows are hitting in another arrow.\".format(n_duplicates))"
   ]
  },
  {
   "cell_type": "code",
   "execution_count": 6,
   "metadata": {},
   "outputs": [
    {
     "name": "stdout",
     "output_type": "stream",
     "text": [
      "In quadrant 1: 11 arrows.\n",
      "In quadrant 2: 3 arrows.\n",
      "In quadrant 3: 2 arrows.\n",
      "In quadrant 4: 6 arrows.\n"
     ]
    }
   ],
   "source": [
    "# 2. Calculate how many arrows have fallen in each quadrant.\n",
    "points = [(4, 5), (0, 2), (4, 7), (1, -3), (3, -2), (4, 5),\n",
    "          (3, 2), (5, 7), (-5, 7), (2, 2), (-4, 5), (0, -2),\n",
    "          (-4, 7), (-1, 3), (-3, 2), (-4, -5), (-3, 2),\n",
    "          (5, 7), (5, 7), (2, 2), (9, 9), (-8, -9)]\n",
    "\n",
    "arrows_Q1 = 0    # ++\n",
    "arrows_Q2 = 0    # +-\n",
    "arrows_Q3 = 0    # -- \n",
    "arrows_Q4 = 0    # -+\n",
    "\n",
    "list_Q1 = []\n",
    "list_Q2 = []\n",
    "list_Q3 = []\n",
    "list_Q4 = []\n",
    "\n",
    "for arrow in points:\n",
    "    if arrow[0] >= 0 and arrow[1] >= 0:\n",
    "        list_Q1.append(arrow)    \n",
    "\n",
    "    if arrow[0] >= 0 and arrow[1] <= 0:\n",
    "        list_Q2.append(arrow)    \n",
    "        \n",
    "    if arrow[0] < 0 and arrow[1] < 0:\n",
    "        list_Q3.append(arrow)    \n",
    "        \n",
    "    if arrow[0] < 0 and arrow[1] > 0:\n",
    "        list_Q4.append(arrow)\n",
    "        \n",
    "print(\"In quadrant 1:\", len(list_Q1), \"arrows.\")\n",
    "print(\"In quadrant 2:\", len(list_Q2), \"arrows.\")\n",
    "print(\"In quadrant 3:\", len(list_Q3), \"arrows.\")\n",
    "print(\"In quadrant 4:\", len(list_Q4), \"arrows.\")"
   ]
  },
  {
   "cell_type": "code",
   "execution_count": 8,
   "metadata": {},
   "outputs": [
    {
     "name": "stdout",
     "output_type": "stream",
     "text": [
      "In quadrant 1: 11 arrows.\n",
      "In quadrant 2: 3 arrows.\n",
      "In quadrant 3: 2 arrows.\n",
      "In quadrant 4: 6 arrows.\n"
     ]
    }
   ],
   "source": [
    "# 2. Calculate how many arrows have fallen in each quadrant.\n",
    "points = [(4, 5), (0, 2), (4, 7), (1, -3), (3, -2), (4, 5),\n",
    "          (3, 2), (5, 7), (-5, 7), (2, 2), (-4, 5), (0, -2),\n",
    "          (-4, 7), (-1, 3), (-3, 2), (-4, -5), (-3, 2),\n",
    "          (5, 7), (5, 7), (2, 2), (9, 9), (-8, -9)]\n",
    "\n",
    "arrows_Q1 = 0    # ++\n",
    "arrows_Q2 = 0    # +-\n",
    "arrows_Q3 = 0    # -- \n",
    "arrows_Q4 = 0    # -+\n",
    "\n",
    "list_Q1 = []\n",
    "list_Q2 = []\n",
    "list_Q3 = []\n",
    "list_Q4 = []\n",
    "\n",
    "for arrow in points:\n",
    "    if arrow[0] >= 0:\n",
    "        if arrow[1] >= 0:        \n",
    "            list_Q1.append(arrow)   \n",
    "        else:\n",
    "            list_Q2.append(arrow)    \n",
    "            \n",
    "    else:\n",
    "        if arrow[1] >= 0:        \n",
    "            list_Q4.append(arrow)   \n",
    "        else:\n",
    "            list_Q3.append(arrow)  \n",
    "        \n",
    "        \n",
    "print(\"In quadrant 1:\", len(list_Q1), \"arrows.\")\n",
    "print(\"In quadrant 2:\", len(list_Q2), \"arrows.\")\n",
    "print(\"In quadrant 3:\", len(list_Q3), \"arrows.\")\n",
    "print(\"In quadrant 4:\", len(list_Q4), \"arrows.\")"
   ]
  },
  {
   "cell_type": "code",
   "execution_count": 24,
   "metadata": {},
   "outputs": [
    {
     "name": "stdout",
     "output_type": "stream",
     "text": [
      "(-4, 5) 6.4031242374328485\n",
      "(4, 7) 8.06225774829855\n",
      "(3, 2) 3.605551275463989\n",
      "(4, 5) 6.4031242374328485\n",
      "(-1, 3) 3.1622776601683795\n",
      "(5, 7) 8.602325267042627\n",
      "(9, 9) 12.727922061357855\n",
      "(3, -2) 3.605551275463989\n",
      "(-5, 7) 8.602325267042627\n",
      "(-3, 2) 3.605551275463989\n",
      "(0, -2) 2.0\n",
      "(-4, -5) 6.4031242374328485\n",
      "(2, 2) 2.8284271247461903\n",
      "(-8, -9) 12.041594578792296\n",
      "(1, -3) 3.1622776601683795\n",
      "(-4, 7) 8.06225774829855\n",
      "(0, 2) 2.0\n",
      "Distance minimum is 2.0\n",
      "(0, -2)\n",
      "(0, 2)\n"
     ]
    }
   ],
   "source": [
    "import math\n",
    "\n",
    "# 3. Find the point closest to the center. Calculate its distance to the center\n",
    "# Defining a function that calculates the distance to the center can help.\n",
    "#print(\"The coord of arrows are\", list(uniques))\n",
    "#print(\"The closest points are\", list(uniques)[10],\"and\", list(uniques)[-1])\n",
    "\n",
    "distances = []\n",
    "for (a,b) in uniques:\n",
    "    distance = math.sqrt(a**2 + b**2)\n",
    "    print((a,b), distance)\n",
    "    distances.append(distance)\n",
    "\n",
    "    \n",
    "## Next line is smart only because we used uniques points (the set not the list)\n",
    "\n",
    "print(\"Distance minimum is {}\".format((min(distances))))\n",
    "distances_boolean = [True if x==min(distances) else False for x in distances]\n",
    "\n",
    "for k in range(len(distances_boolean)):\n",
    "    boolean = distances_boolean[k]\n",
    "    if boolean:\n",
    "        print(list(uniques)[k])"
   ]
  },
  {
   "cell_type": "code",
   "execution_count": 25,
   "metadata": {},
   "outputs": [
    {
     "name": "stdout",
     "output_type": "stream",
     "text": [
      "The distance of the closest point to the center is 2\n"
     ]
    }
   ],
   "source": [
    "# Calculate its distance to the center _ Defining a function that calculates the distance to the center can help.\n",
    "import math\n",
    "center = (0, 0)\n",
    "closest_point = (0, -2)\n",
    "closest_pointbis = (0, 2)\n",
    "\n",
    "distance = math.sqrt((center[0] - closest_point[0])**2 + (center[1] - closest_point[1])**2)\n",
    "print(\"The distance of the closest point to the center is\", int(distance))"
   ]
  },
  {
   "cell_type": "code",
   "execution_count": 26,
   "metadata": {},
   "outputs": [
    {
     "name": "stdout",
     "output_type": "stream",
     "text": [
      "15 arrows are in the target.\n",
      "To be picked up in the forest: 2\n"
     ]
    }
   ],
   "source": [
    "# 4. If the target has a radius of 9, calculate the number of arrows that must be picked up in the forest.\n",
    "r = 9\n",
    "arrows_in = []\n",
    "arrows_out = []\n",
    "\n",
    "for (a,b) in uniques:\n",
    "    distance = math.sqrt(a**2 + b**2)\n",
    "    if distance > 9:\n",
    "        arrows_out.append(distance)\n",
    "    else:\n",
    "        arrows_in.append(distance)\n",
    "                \n",
    "print(len(arrows_in),\"arrows are in the target.\")\n",
    "print(\"To be picked up in the forest:\", len(arrows_out))"
   ]
  },
  {
   "cell_type": "code",
   "execution_count": null,
   "metadata": {},
   "outputs": [],
   "source": []
  }
 ],
 "metadata": {
  "kernelspec": {
   "display_name": "Python 3",
   "language": "python",
   "name": "python3"
  },
  "language_info": {
   "codemirror_mode": {
    "name": "ipython",
    "version": 3
   },
   "file_extension": ".py",
   "mimetype": "text/x-python",
   "name": "python",
   "nbconvert_exporter": "python",
   "pygments_lexer": "ipython3",
   "version": "3.7.3"
  }
 },
 "nbformat": 4,
 "nbformat_minor": 2
}

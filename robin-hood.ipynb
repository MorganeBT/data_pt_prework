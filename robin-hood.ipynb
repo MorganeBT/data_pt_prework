{
 "cells": [
  {
   "cell_type": "markdown",
   "metadata": {},
   "source": [
    "# Robin Hood:\n",
    "We are in a competition to win the archery contest in Sherwood. With our bow and arrows we shoot on a target and try to hit as close as possible to the center.\n",
    "\n",
    "The center of the target is represented by the values (0, 0) on the coordinate axes.\n",
    "\n",
    "![](images/arrows.jpg)\n",
    "\n",
    "## Goals:\n",
    "* data structures: lists, sets, tuples\n",
    "* logical operators: if-elif-else\n",
    "* loop: while/for\n",
    "* minimum (optional sorting)\n",
    "\n",
    "## Description:\n",
    "In the 2-dimensional space, a point can be defined by a pair of values that correspond to the horizontal coordinate (x) and the vertical coordinate (y). The space can be divided into 4 zones (quadrants): Q1, Q2, Q3, Q4. Whose single point of union is the point (0, 0).\n",
    "\n",
    "If a point is in Q1 both its x coordinate and the y are positive. I leave a link to wikipedia to familiarize yourself with these quadrants.\n",
    "\n",
    "https://en.wikipedia.org/wiki/Cartesian_coordinate_system\n",
    "\n",
    "https://en.wikipedia.org/wiki/Euclidean_distance\n",
    "\n",
    "## Shots\n",
    "```\n",
    "points = [(4, 5), (-0, 2), (4, 7), (1, -3), (3, -2), (4, 5),\n",
    "          (3, 2), (5, 7), (-5, 7), (2, 2), (-4, 5), (0, -2),\n",
    "          (-4, 7), (-1, 3), (-3, 2), (-4, -5), (-3, 2),\n",
    "          (5, 7), (5, 7), (2, 2), (9, 9), (-8, -9)]\n",
    "```\n",
    "\n",
    "## Tasks\n",
    "1. Robin Hood is famous for hitting an arrow with another arrow. Did you get it?\n",
    "2. Calculate how many arrows have fallen in each quadrant.\n",
    "3. Find the point closest to the center. Calculate its distance to the center. \n",
    "4. If the target has a radius of 9, calculate the number of arrows that must be picked up in the forest."
   ]
  },
  {
   "cell_type": "code",
   "execution_count": 125,
   "metadata": {},
   "outputs": [
    {
     "data": {
      "text/plain": [
       "22"
      ]
     },
     "execution_count": 125,
     "metadata": {},
     "output_type": "execute_result"
    }
   ],
   "source": [
    "# Variables\n",
    "points = [(4, 5), (0, 2), (4, 7), (1, -3), (3, -2), (4, 5),\n",
    "          (3, 2), (5, 7), (-5, 7), (2, 2), (-4, 5), (0, -2),\n",
    "          (-4, 7), (-1, 3), (-3, 2), (-4, -5), (-3, 2),\n",
    "          (5, 7), (5, 7), (2, 2), (9, 9), (-8, -9)]\n",
    "len(points)"
   ]
  },
  {
   "cell_type": "code",
   "execution_count": 2,
   "metadata": {},
   "outputs": [
    {
     "data": {
      "text/plain": [
       "17"
      ]
     },
     "execution_count": 2,
     "metadata": {},
     "output_type": "execute_result"
    }
   ],
   "source": [
    "# 1. Robin Hood is famous for hitting an arrow with another arrow. Did you get it?\n",
    "uniques = set(points)\n",
    "uniques\n",
    "list(uniques)\n",
    "len(uniques)"
   ]
  },
  {
   "cell_type": "code",
   "execution_count": 3,
   "metadata": {},
   "outputs": [
    {
     "name": "stdout",
     "output_type": "stream",
     "text": [
      "5 arrows are hitting in another arrow.\n"
     ]
    }
   ],
   "source": [
    "x = len(points)-len(uniques)\n",
    "print(x, \"arrows are hitting in another arrow.\")"
   ]
  },
  {
   "cell_type": "code",
   "execution_count": 146,
   "metadata": {},
   "outputs": [
    {
     "name": "stdout",
     "output_type": "stream",
     "text": [
      "in quadrant 1: (4, 5)\n",
      "in quadrant 1: (0, 2)\n",
      "in quadrant 1: (4, 7)\n",
      "in quadrant 2: (1, -3)\n",
      "in quadrant 2: (3, -2)\n",
      "in quadrant 1: (4, 5)\n",
      "in quadrant 1: (3, 2)\n",
      "in quadrant 1: (5, 7)\n",
      "in quadrant 4: (-5, 7)\n",
      "in quadrant 1: (2, 2)\n",
      "in quadrant 4: (-4, 5)\n",
      "in quadrant 2: (0, -2)\n",
      "in quadrant 4: (-4, 7)\n",
      "in quadrant 4: (-1, 3)\n",
      "in quadrant 4: (-3, 2)\n",
      "in quadrant 3: (-4, -5)\n",
      "in quadrant 4: (-3, 2)\n",
      "in quadrant 1: (5, 7)\n",
      "in quadrant 1: (5, 7)\n",
      "in quadrant 1: (2, 2)\n",
      "in quadrant 1: (9, 9)\n",
      "in quadrant 3: (-8, -9)\n"
     ]
    }
   ],
   "source": [
    "# 2. Calculate how many arrows have fallen in each quadrant.\n",
    "points = [(4, 5), (0, 2), (4, 7), (1, -3), (3, -2), (4, 5),\n",
    "          (3, 2), (5, 7), (-5, 7), (2, 2), (-4, 5), (0, -2),\n",
    "          (-4, 7), (-1, 3), (-3, 2), (-4, -5), (-3, 2),\n",
    "          (5, 7), (5, 7), (2, 2), (9, 9), (-8, -9)]\n",
    "\n",
    "arrows_Q1 = 0    # ++\n",
    "arrows_Q2 = 0    # +-\n",
    "arrows_Q3 = 0    # -- \n",
    "arrows_Q4 = 0    # -+\n",
    "\n",
    "for arrow in points:\n",
    "    if arrow[0] >= 0 and arrow[1] >= 0:\n",
    "        arrows_Q1 = arrow\n",
    "        print(\"in quadrant 1:\", arrows_Q1)\n",
    "    if arrow[0] >= 0 and arrow[1] <= 0:\n",
    "        arrows_Q2 = arrow\n",
    "        print(\"in quadrant 2:\", arrows_Q2)\n",
    "    if arrow[0] < 0 and arrow[1] < 0:\n",
    "        arrows_Q3 = arrow\n",
    "        print(\"in quadrant 3:\", arrows_Q3)\n",
    "    if arrow[0] < 0 and arrow[1] > 0:\n",
    "        arrows_Q4 = arrow\n",
    "        print(\"in quadrant 4:\", arrows_Q4)     \n"
   ]
  },
  {
   "cell_type": "code",
   "execution_count": 90,
   "metadata": {},
   "outputs": [],
   "source": [
    "# 3. Find the point closest to the center. Calculate its distance to the center\n",
    "# Defining a function that calculates the distance to the center can help.\n"
   ]
  },
  {
   "cell_type": "code",
   "execution_count": null,
   "metadata": {},
   "outputs": [],
   "source": []
  },
  {
   "cell_type": "code",
   "execution_count": null,
   "metadata": {},
   "outputs": [],
   "source": [
    "# 4. If the target has a radius of 9, calculate the number of arrows that \n",
    "# must be picked up in the forest.\n",
    "# x2 + y2 = 4\n",
    "# (x − a)2 + (y − b)2 = r2"
   ]
  },
  {
   "cell_type": "code",
   "execution_count": null,
   "metadata": {},
   "outputs": [],
   "source": []
  }
 ],
 "metadata": {
  "kernelspec": {
   "display_name": "Python 3",
   "language": "python",
   "name": "python3"
  },
  "language_info": {
   "codemirror_mode": {
    "name": "ipython",
    "version": 3
   },
   "file_extension": ".py",
   "mimetype": "text/x-python",
   "name": "python",
   "nbconvert_exporter": "python",
   "pygments_lexer": "ipython3",
   "version": "3.7.3"
  }
 },
 "nbformat": 4,
 "nbformat_minor": 2
}
